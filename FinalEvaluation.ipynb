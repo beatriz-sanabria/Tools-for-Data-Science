{
  "nbformat": 4,
  "nbformat_minor": 0,
  "metadata": {
    "colab": {
      "provenance": [],
      "authorship_tag": "ABX9TyOsX6sL/sNhkLO57m3ey/hp"
    },
    "kernelspec": {
      "name": "python3",
      "display_name": "Python 3"
    },
    "language_info": {
      "name": "python"
    }
  },
  "cells": [
    {
      "cell_type": "markdown",
      "source": [
        "<h1> Data Science Tools and Ecosystem <h1>"
      ],
      "metadata": {
        "id": "ibZoxuQLi4kZ"
      }
    },
    {
      "cell_type": "markdown",
      "source": [
        "In this notebook, Data Science Tools and Ecosystem are summarized."
      ],
      "metadata": {
        "id": "FbksqzU4jVqp"
      }
    },
    {
      "cell_type": "markdown",
      "source": [
        "Some of the popular languages that Data Scientists use are:\n",
        "\n",
        "\n",
        "*   Python\n",
        "*   R\n",
        "*   Java\n",
        "*   Julia\n",
        "\n",
        "\n",
        "\n"
      ],
      "metadata": {
        "id": "l8N-rjTNjytD"
      }
    },
    {
      "cell_type": "markdown",
      "source": [
        "Some of the commonly used libraries used by Data Scientists include:\n",
        "\n",
        "\n",
        "1.   Matplotlib\n",
        "2.   Pandas\n",
        "1.   TensorFlow\n",
        "1.   Keras\n",
        "2.   SciPy\n",
        "\n",
        "\n",
        "\n",
        "\n",
        "\n"
      ],
      "metadata": {
        "id": "lI0LoJxEkcE3"
      }
    },
    {
      "cell_type": "markdown",
      "source": [
        "| Data Science Tools |\n",
        "| --- |    \n",
        "| Jupyter Notebooks |\n",
        "| Zeppelin Notebooks |  \n",
        "|R Studio|  \n",
        "\n",
        "\n",
        "\n",
        "\n",
        "\n"
      ],
      "metadata": {
        "id": "jxAMrILQtUiH"
      }
    },
    {
      "cell_type": "markdown",
      "source": [
        "<h3>Below are a few examples of evaluating arithmetic expressions in Python<h3>"
      ],
      "metadata": {
        "id": "Ew-DvOIm1LdQ"
      }
    },
    {
      "cell_type": "code",
      "source": [
        "#  This a simple arithmetic expression to mutiply then add integers\n",
        "(3*4)+5"
      ],
      "metadata": {
        "colab": {
          "base_uri": "https://localhost:8080/"
        },
        "id": "8AcGSxrELbmk",
        "outputId": "f6aff1f6-aaa2-49ae-c4ed-52c9f3cfec7a"
      },
      "execution_count": 1,
      "outputs": [
        {
          "output_type": "execute_result",
          "data": {
            "text/plain": [
              "17"
            ]
          },
          "metadata": {},
          "execution_count": 1
        }
      ]
    },
    {
      "cell_type": "code",
      "source": [
        "# This will convert 200 minutes to hours by diving by 60\n",
        "hours = 200/60\n",
        "hours"
      ],
      "metadata": {
        "colab": {
          "base_uri": "https://localhost:8080/"
        },
        "id": "EqowDIqcLzre",
        "outputId": "ed464b17-4dd1-4957-faca-687c0fc42694"
      },
      "execution_count": 3,
      "outputs": [
        {
          "output_type": "execute_result",
          "data": {
            "text/plain": [
              "3.3333333333333335"
            ]
          },
          "metadata": {},
          "execution_count": 3
        }
      ]
    },
    {
      "cell_type": "markdown",
      "source": [
        "**Objectives:**\n",
        "\n",
        "\n",
        "*   List popular languages for Data Science\n",
        "*   List popular libraries for Data Science\n",
        "*   Create tables\n",
        "*   Evaluate arithmetic expressions\n",
        "\n",
        "\n",
        "\n"
      ],
      "metadata": {
        "id": "T53z_TdnMRks"
      }
    },
    {
      "cell_type": "markdown",
      "source": [
        "<h2>Author<h2>\n",
        "\n",
        "Beatriz Sanabria Barradas"
      ],
      "metadata": {
        "id": "Hyzub6eENtKF"
      }
    },
    {
      "cell_type": "code",
      "source": [],
      "metadata": {
        "id": "SILEg9VoN3yH"
      },
      "execution_count": null,
      "outputs": []
    },
    {
      "cell_type": "code",
      "source": [],
      "metadata": {
        "id": "9Yg3f6ZhNZIJ"
      },
      "execution_count": null,
      "outputs": []
    }
  ]
}